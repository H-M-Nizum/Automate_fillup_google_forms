{
 "cells": [
  {
   "cell_type": "markdown",
   "id": "05d13eaf-b84d-49ea-ac46-93f7e143fbe3",
   "metadata": {},
   "source": [
    "# import all necessary packages "
   ]
  },
  {
   "cell_type": "code",
   "execution_count": 4,
   "id": "0fff7415-10ec-43a2-a055-483ef79618f6",
   "metadata": {},
   "outputs": [],
   "source": [
    "from selenium import webdriver\n",
    "from selenium.webdriver.chrome.service import Service\n",
    "from selenium.webdriver.common.by import By\n",
    "import pandas as pd\n",
    "import time"
   ]
  },
  {
   "cell_type": "markdown",
   "id": "02cdb594-3699-452e-aeca-024c716a2707",
   "metadata": {},
   "source": [
    "#  Load Website "
   ]
  },
  {
   "cell_type": "code",
   "execution_count": 5,
   "id": "3b4da8f7-74a8-4823-81f7-842a627a70a6",
   "metadata": {},
   "outputs": [],
   "source": [
    "# Set up the WebDriver \n",
    "driver_path = 'E:/Dowmnload/Driver/chromedriver.exe' \n",
    "service = Service(driver_path)  # Create a Service object\n",
    "driver = webdriver.Chrome(service=service)  # Initialize the WebDriver using the Service object\n",
    "\n",
    "# Load the website\n",
    "url = 'https://forms.gle/nEwpCecztfydkwCo6'\n",
    "driver.get(url)\n",
    "\n",
    "time.sleep(5) # Wait 5 second for wesite load"
   ]
  },
  {
   "cell_type": "markdown",
   "id": "ada7f9e7-2ece-4570-8796-5bf93a4bdb2a",
   "metadata": {},
   "source": [
    "## Auto Form Fillup"
   ]
  },
  {
   "cell_type": "code",
   "execution_count": 6,
   "id": "7c33e2bf-bd94-4728-8aaf-9d78d4b46da4",
   "metadata": {},
   "outputs": [],
   "source": [
    "# Select XPATH for Name and fill this field\n",
    "name = driver.find_element(By.XPATH, \"//div[contains(@data-params, 'Name')]//input\")\n",
    "name.send_keys(\"H.M. Nizum\")\n",
    "time.sleep(1)\n",
    "\n",
    "# Select XPATH for Email and fill this field\n",
    "email = driver.find_element(By.XPATH, \"//div[contains(@data-params, 'Email')]//input\")\n",
    "email.send_keys(\"hmnizum1714032@gmail.com\")\n",
    "time.sleep(1)\n",
    "\n",
    "# Select XPATH for Address and fill this field\n",
    "address = driver.find_element(By.XPATH, \"//div[contains(@data-params, 'Address')]//textarea\")\n",
    "address.send_keys(\"Muktagacha, Mymensingh, Bangladesh\")\n",
    "time.sleep(1)\n",
    "\n",
    "# Select XPATH for Phone number and fill this field\n",
    "phone = driver.find_element(By.XPATH, \"//div[contains(@data-params, 'Phone number')]//input\")\n",
    "phone.send_keys(\"+8801981251861\")\n",
    "time.sleep(1)\n",
    "\n",
    "# Select XPATH for Comments and fill this field\n",
    "comment = driver.find_element(By.XPATH, \"//div[contains(@data-params, 'Comments')]//textarea\")\n",
    "comment.send_keys(\"Trying to be more creative and something unique\")\n",
    "time.sleep(1)\n",
    "\n",
    "# Select XPATH for Submit Button and clicked it\n",
    "submit = driver.find_element(By.XPATH, '//div[@role=\"button\"]//span[text()=\"জমা দিন\"]')\n",
    "submit.click()"
   ]
  },
  {
   "cell_type": "markdown",
   "id": "b75d585b-fb0f-40b6-8533-6ede1f89c3c8",
   "metadata": {},
   "source": [
    "## Click For Another Response"
   ]
  },
  {
   "cell_type": "code",
   "execution_count": 20,
   "id": "3b545872-a11f-434c-b749-a477e10bfb0d",
   "metadata": {},
   "outputs": [],
   "source": [
    "driver.get(url)"
   ]
  },
  {
   "cell_type": "markdown",
   "id": "7c346a0d-6962-4708-a61c-a54901cc253d",
   "metadata": {},
   "source": [
    "## Create Fake Data"
   ]
  },
  {
   "cell_type": "code",
   "execution_count": 7,
   "id": "5614c7ac-1cba-4c70-93fe-33966beedb04",
   "metadata": {},
   "outputs": [
    {
     "name": "stdout",
     "output_type": "stream",
     "text": [
      "Name\n",
      "Jordan Johnson\n",
      "Email\n",
      "bcastaneda@hotmail.com\n",
      "Address\n",
      "89870 Mendez Station Suite 091\n",
      "New Robert, AS 90322\n",
      "Phone number\n",
      "064.776.6809x074\n",
      "Comments\n",
      "Ratione quam enim tenetur incidunt a itaque ea.\n",
      "Name\n",
      "Megan Robinson\n",
      "Email\n",
      "jenniferward@hotmail.com\n",
      "Address\n",
      "64521 Miller Rapids Apt. 889\n",
      "Bishopstad, MH 04000\n",
      "Phone number\n",
      "1-859-455-0384\n",
      "Comments\n",
      "Velit harum pariatur repudiandae possimus reiciendis sint doloribus reiciendis. Modi accusantium quasi sequi doloremque voluptates.\n",
      "Name\n",
      "Andrew Calhoun\n",
      "Email\n",
      "mary43@gmail.com\n",
      "Address\n",
      "927 Robin Fork\n",
      "Gutierrezshire, MD 72335\n",
      "Phone number\n",
      "258.245.5302\n",
      "Comments\n",
      "Hic sunt necessitatibus enim nesciunt tenetur.\n",
      "Name\n",
      "Bethany Eaton\n",
      "Email\n",
      "scottcamacho@gmail.com\n",
      "Address\n",
      "696 Hanson Way\n",
      "Reyesmouth, CT 02508-4089\n",
      "Phone number\n",
      "(126)550-3504x77763\n",
      "Comments\n",
      "Nostrum quos adipisci nobis recusandae at dignissimos ex. Laboriosam nobis perspiciatis commodi rerum voluptatem reiciendis hic.\n",
      "Name\n",
      "Alexander Christian\n",
      "Email\n",
      "hansenheidi@hotmail.com\n",
      "Address\n",
      "37395 Karla Place\n",
      "Brettside, GU 52363-7851\n",
      "Phone number\n",
      "(733)017-4914\n",
      "Comments\n",
      "Labore culpa doloremque cupiditate aliquam dignissimos doloremque. Reprehenderit explicabo ut voluptatem deleniti nihil officiis est.\n",
      "Name\n",
      "Anne Rubio\n",
      "Email\n",
      "xhansen@gmail.com\n",
      "Address\n",
      "Unit 8142 Box 6096\n",
      "DPO AA 57872\n",
      "Phone number\n",
      "(732)367-1698x8039\n",
      "Comments\n",
      "Vitae veniam porro neque doloremque cum.\n",
      "Name\n",
      "Patrick Knight\n",
      "Email\n",
      "christinasnyder@hotmail.com\n",
      "Address\n",
      "0648 Brown Fall\n",
      "West Charleshaven, HI 92042-2514\n",
      "Phone number\n",
      "(275)156-9703x76450\n",
      "Comments\n",
      "Quo similique tempore impedit autem.\n",
      "Name\n",
      "David Rodriguez\n",
      "Email\n",
      "pbryant@yahoo.com\n",
      "Address\n",
      "01046 Hansen Highway Suite 176\n",
      "Sherrybury, AS 18502\n",
      "Phone number\n",
      "1-347-681-2377x63629\n",
      "Comments\n",
      "Nihil maxime dolorum cumque asperiores enim voluptates odit consectetur. Libero molestiae et velit consequuntur natus vero animi.\n",
      "Name\n",
      "Michael Matthews\n",
      "Email\n",
      "rwebb@gmail.com\n",
      "Address\n",
      "55369 Jamie Groves\n",
      "East Patriciaview, GA 48407-1578\n",
      "Phone number\n",
      "+05(1)3068439573\n",
      "Comments\n",
      "Tenetur atque impedit placeat architecto corporis impedit.\n",
      "Name\n",
      "Tanya Mitchell\n",
      "Email\n",
      "danny25@yahoo.com\n",
      "Address\n",
      "USS Williams\n",
      "FPO AP 43933\n",
      "Phone number\n",
      "493-168-3152x1420\n",
      "Comments\n",
      "Repellendus temporibus ea tenetur maxime ut reprehenderit fugiat. Molestias quaerat voluptatum enim quidem tempore.\n"
     ]
    }
   ],
   "source": [
    "# Generating fake data\n",
    "fake = Faker()\n",
    "profile = [fake.profile() for i in range(10)]  \t# create a fake data list for  personal info\n",
    "df = pd.DataFrame(profile)   # Create pandas DataFrame\n",
    "df = df[['name', 'mail', 'address']] # Take only three columns\n",
    "phone = [fake.phone_number() for i in range(10)] # Create fake phone number list\n",
    "df['Phone number'] = phone # Add the list in DataFrame\n",
    "comment = [fake.paragraph(nb_sentences=1) for i in range(10)] # Create fake one sentence paragraph for comment\n",
    "df['Comments'] = comment # Add the list in DataFrame\n",
    "df.rename(columns={'name':'Name', 'mail':'Email', 'address':'Address'}, inplace=True) # Change the columns name\n",
    "\n",
    "# Iterating over rows and columns properly\n",
    "for i in df.index:  # Iterating over the row indices\n",
    "    for j in df.columns:  # Iterating over the column names\n",
    "        print(j)  # Print the column name\n",
    "        print(df.loc[i, j])  # Print the value at the specified row and column"
   ]
  },
  {
   "cell_type": "code",
   "execution_count": null,
   "id": "c2eba589-f773-4a96-b9c0-88f312e078c5",
   "metadata": {},
   "outputs": [],
   "source": []
  },
  {
   "cell_type": "markdown",
   "id": "3af306e1-8041-4779-8f14-266b71a8fac9",
   "metadata": {},
   "source": [
    "# Full Project"
   ]
  },
  {
   "cell_type": "code",
   "execution_count": 3,
   "id": "2833c033-9adf-4c68-b9f8-32914a29d79e",
   "metadata": {},
   "outputs": [
    {
     "name": "stdin",
     "output_type": "stream",
     "text": [
      "Enter Number Of Responses :  2\n"
     ]
    },
    {
     "name": "stdout",
     "output_type": "stream",
     "text": [
      "Press 1 : If You Want Submit Another Responses Series.\n",
      "    Press 2 : If you Want Stop This Process.\n"
     ]
    },
    {
     "name": "stdin",
     "output_type": "stream",
     "text": [
      "Enter A Number :  1\n",
      "Enter Number Of Responses :  1\n"
     ]
    },
    {
     "name": "stdout",
     "output_type": "stream",
     "text": [
      "Press 1 : If You Want Submit Another Responses Series.\n",
      "    Press 2 : If you Want Stop This Process.\n"
     ]
    },
    {
     "name": "stdin",
     "output_type": "stream",
     "text": [
      "Enter A Number :  2\n"
     ]
    }
   ],
   "source": [
    "from selenium import webdriver\n",
    "from selenium.webdriver.chrome.service import Service\n",
    "from selenium.webdriver.common.by import By\n",
    "import pandas as pd\n",
    "import time\n",
    "from faker import Faker\n",
    "\n",
    "\n",
    "\n",
    "# Set up the WebDriver \n",
    "driver_path = 'E:/Dowmnload/Driver/chromedriver.exe' \n",
    "service = Service(driver_path)  # Create a Service object\n",
    "driver = webdriver.Chrome(service=service)  # Initialize the WebDriver using the Service object\n",
    "\n",
    "# Load the website\n",
    "url = 'https://forms.gle/nEwpCecztfydkwCo6'\n",
    "# Wait 5 second for wesite load\n",
    "\n",
    "while True:\n",
    "    response = int(input('Enter Number Of Responses : '))\n",
    "    \n",
    "    # Generating fake data\n",
    "    fake = Faker()\n",
    "    profile = [fake.profile() for i in range(response)]  \t# create a fake data list for  personal info\n",
    "    df = pd.DataFrame(profile)   # Create pandas DataFrame\n",
    "    df = df[['name', 'mail', 'address']] # Take only three columns\n",
    "    phone = [fake.phone_number() for i in range(response)] # Create fake phone number list\n",
    "    df['Phone number'] = phone # Add the list in DataFrame\n",
    "    comment = [fake.paragraph(nb_sentences=1) for i in range(response)] # Create fake one sentence paragraph for comment\n",
    "    df['Comments'] = comment # Add the list in DataFrame\n",
    "    df.rename(columns={'name':'Name', 'mail':'Email', 'address':'Address'}, inplace=True) # Change the columns name\n",
    "        \n",
    "    # Iterating over rows and columns properly\n",
    "    for row in df.index:  # Iterating over the row indices\n",
    "        driver.get(url) # Load the website\n",
    "        time.sleep(1) \n",
    "        for col in df.columns:  # Iterating over the column names\n",
    "            # Call dynamic XPATH for input/textarea\n",
    "            name = driver.find_element(By.XPATH, f\"//div[contains(@data-params, '{col}')]//input | //div[contains(@data-params, '{col}')]//textarea\")\n",
    "            name.send_keys(df.loc[row, col]) # fill the form field\n",
    "            time.sleep(1)\n",
    "        submit = driver.find_element(By.XPATH, \"//div[@role='button']//span[text()='জমা দিন'] | //div[@role='button']//span[text()='Submit']\")\n",
    "        submit.click() # Click submit button\n",
    "\n",
    "    print(f\"\"\"Press 1 : If You Want Submit Another Responses Series.\n",
    "    Press 2 : If you Want Stop This Process.\"\"\")\n",
    "    exit = int(input(\"Enter A Number : \"))\n",
    "    if exit == 2:\n",
    "        break"
   ]
  },
  {
   "cell_type": "code",
   "execution_count": null,
   "id": "9d98387f-de45-44cf-8d24-454f5f831480",
   "metadata": {},
   "outputs": [],
   "source": []
  }
 ],
 "metadata": {
  "kernelspec": {
   "display_name": "Python 3 (ipykernel)",
   "language": "python",
   "name": "python3"
  },
  "language_info": {
   "codemirror_mode": {
    "name": "ipython",
    "version": 3
   },
   "file_extension": ".py",
   "mimetype": "text/x-python",
   "name": "python",
   "nbconvert_exporter": "python",
   "pygments_lexer": "ipython3",
   "version": "3.11.7"
  }
 },
 "nbformat": 4,
 "nbformat_minor": 5
}
